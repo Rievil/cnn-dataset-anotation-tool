{
  "cells": [
    {
      "cell_type": "markdown",
      "metadata": {},
      "source": [
        "# CLI Dataset Management Walkthrough\n",
        "\n",
        "This notebook demonstrates how to use the command-line interface for the CNN dataset annotation tool to list, add, update, and remove dataset entries stored in parquet files.\n"
      ]
    },
    {
      "cell_type": "markdown",
      "metadata": {},
      "source": [
        "## Overview\n",
        "\n",
        "Each section introduces a CLI command, explains what it does, and then runs it so you can review the resulting output.\n"
      ]
    },
    {
      "cell_type": "markdown",
      "metadata": {},
      "source": [
        "## 1. Environment Setup\n",
        "\n",
        "Ensure the project dependencies (including PySide6) are installed before running the commands below.\n"
      ]
    },
    {
      "cell_type": "code",
      "execution_count": null,
      "metadata": {},
      "outputs": [],
      "source": [
        "# Optional: install project dependencies in this environment\n",
        "# %pip install -r ../requirements.txt\n"
      ]
    },
    {
      "cell_type": "markdown",
      "metadata": {},
      "source": [
        "We will work from a scratch dataset at `../datasets/cli_demo.parquet` so the demo can be rerun at any time.\n"
      ]
    },
    {
      "cell_type": "code",
      "execution_count": null,
      "metadata": {},
      "outputs": [],
      "source": [
        "from pathlib import Path\n",
        "\n",
        "DATASET_PATH = Path('../datasets/cli_demo.parquet')\n",
        "if DATASET_PATH.exists():\n",
        "    DATASET_PATH.unlink()\n",
        "\n",
        "DATASET_PATH\n"
      ]
    },
    {
      "cell_type": "markdown",
      "metadata": {},
      "source": [
        "For convenience we define a helper that shells out to the CLI and prints its stdout and stderr.\n"
      ]
    },
    {
      "cell_type": "code",
      "execution_count": null,
      "metadata": {},
      "outputs": [],
      "source": [
        "import subprocess\n",
        "\n",
        "def run_cli(*extra_args):\n",
        "    cmd = ['python', '-m', 'cnn_dataset_annotation_tool.cli', '--dataset', str(DATASET_PATH)]\n",
        "    cmd.extend(extra_args)\n",
        "    print('$', ' '.join(cmd))\n",
        "    result = subprocess.run(cmd, capture_output=True, text=True)\n",
        "    if result.stdout:\n",
        "        print(result.stdout, end='')\n",
        "    if result.stderr:\n",
        "        print(result.stderr, end='')\n",
        "    if result.returncode != 0:\n",
        "        raise RuntimeError(f'Command exited with status {result.returncode}')\n"
      ]
    },
    {
      "cell_type": "markdown",
      "metadata": {},
      "source": [
        "### Sample assets\n",
        "\n",
        "These are the source image and label files used throughout the walkthrough.\n"
      ]
    },
    {
      "cell_type": "code",
      "execution_count": null,
      "metadata": {},
      "outputs": [],
      "source": [
        "from pprint import pprint\n",
        "\n",
        "image_files = sorted(Path('../datasets/images').glob('*.png'))\n",
        "label_files = sorted(Path('../datasets/labels').glob('*.tif'))\n",
        "pprint(image_files)\n",
        "pprint(label_files)\n"
      ]
    },
    {
      "cell_type": "markdown",
      "metadata": {},
      "source": [
        "## 2. Inspect an empty dataset\n",
        "\n",
        "Listing entries on a brand-new parquet file shows that no data is present yet.\n"
      ]
    },
    {
      "cell_type": "code",
      "execution_count": null,
      "metadata": {},
      "outputs": [],
      "source": [
        "run_cli('list')\n"
      ]
    },
    {
      "cell_type": "markdown",
      "metadata": {},
      "source": [
        "## 3. Add image/label pairs\n",
        "\n",
        "Add entries that point at existing assets and attach metadata such as the data split and notes.\n"
      ]
    },
    {
      "cell_type": "code",
      "execution_count": null,
      "metadata": {},
      "outputs": [],
      "source": [
        "run_cli(\n",
        "    'add',\n",
        "    'ID17_1_Image',\n",
        "    '../datasets/images/ID17_1_Image.png',\n",
        "    '../datasets/labels/ID17_1_Image.tif',\n",
        "    '-m', 'split=train',\n",
        "    '-m', 'notes=baseline capture',\n",
        ")\n"
      ]
    },
    {
      "cell_type": "code",
      "execution_count": null,
      "metadata": {},
      "outputs": [],
      "source": [
        "run_cli(\n",
        "    'add',\n",
        "    'ID22_295_Image',\n",
        "    '../datasets/images/ID22_295_Image.png',\n",
        "    '../datasets/labels/ID22_295_Image.tif',\n",
        "    '-m', 'split=val',\n",
        "    '-m', 'notes=quality check',\n",
        ")\n"
      ]
    },
    {
      "cell_type": "markdown",
      "metadata": {},
      "source": [
        "After adding entries we can list again to confirm they were written to the parquet file.\n"
      ]
    },
    {
      "cell_type": "code",
      "execution_count": null,
      "metadata": {},
      "outputs": [],
      "source": [
        "run_cli('list')\n"
      ]
    },
    {
      "cell_type": "markdown",
      "metadata": {},
      "source": [
        "## 4. Update metadata or assets\n",
        "\n",
        "Updates allow you to revise metadata fields or swap the underlying image/label files when needed.\n"
      ]
    },
    {
      "cell_type": "code",
      "execution_count": null,
      "metadata": {},
      "outputs": [],
      "source": [
        "run_cli(\n",
        "    'update',\n",
        "    'ID17_1_Image',\n",
        "    '-m', 'notes=field verification complete',\n",
        ")\n"
      ]
    },
    {
      "cell_type": "code",
      "execution_count": null,
      "metadata": {},
      "outputs": [],
      "source": [
        "run_cli(\n",
        "    'update',\n",
        "    'ID22_295_Image',\n",
        "    '--replace-metadata',\n",
        "    '-m', 'split=test',\n",
        "    '-m', 'operator=Alice',\n",
        ")\n"
      ]
    },
    {
      "cell_type": "markdown",
      "metadata": {},
      "source": [
        "Verify that the metadata changes were applied.\n"
      ]
    },
    {
      "cell_type": "code",
      "execution_count": null,
      "metadata": {},
      "outputs": [],
      "source": [
        "run_cli('list')\n"
      ]
    },
    {
      "cell_type": "markdown",
      "metadata": {},
      "source": [
        "## 5. Remove entries\n",
        "\n",
        "Entries that are no longer needed can be deleted from the dataset.\n"
      ]
    },
    {
      "cell_type": "code",
      "execution_count": null,
      "metadata": {},
      "outputs": [],
      "source": [
        "run_cli('remove', 'ID22_295_Image')\n"
      ]
    },
    {
      "cell_type": "markdown",
      "metadata": {},
      "source": [
        "A final listing confirms the dataset state.\n"
      ]
    },
    {
      "cell_type": "code",
      "execution_count": null,
      "metadata": {},
      "outputs": [],
      "source": [
        "run_cli('list')\n"
      ]
    }
  ],
  "metadata": {
    "kernelspec": {
      "display_name": "Python 3",
      "language": "python",
      "name": "python3"
    },
    "language_info": {
      "name": "python",
      "pygments_lexer": "ipython3",
      "codemirror_mode": {
        "name": "ipython",
        "version": 3
      },
      "nbconvert_exporter": "python",
      "version": "3.10"
    }
  },
  "nbformat": 4,
  "nbformat_minor": 5
}